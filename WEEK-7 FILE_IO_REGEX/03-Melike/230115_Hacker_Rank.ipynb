{
 "cells": [
  {
   "cell_type": "code",
   "execution_count": null,
   "metadata": {},
   "outputs": [],
   "source": [
    "\"\"\"1) Matching Anything But a Newline\n",
    "https://www.hackerrank.com/challenges/matching-anything-but-new-line/problem\"\"\"\n",
    "\n",
    "\n",
    "regex_pattern = r\"^([^\\n]{3}\\.){3}[^\\n]{3}$\""
   ]
  },
  {
   "cell_type": "code",
   "execution_count": null,
   "metadata": {},
   "outputs": [],
   "source": [
    "\"\"\"2) Matching Specific String\n",
    "https://www.hackerrank.com/challenges/matching-specific-string/problem\"\"\"\n",
    "\n",
    "Regex_Pattern = r'hackerrank+'"
   ]
  },
  {
   "cell_type": "code",
   "execution_count": null,
   "metadata": {},
   "outputs": [],
   "source": [
    "\"\"\"3) Matching Digits & Non-Digit Characters\n",
    "https://www.hackerrank.com/challenges/matching-digits-non-digit-character/problem?h_r=next-challenge&h_v=zen\"\"\"\n",
    "\n",
    "Regex_Pattern = r\"\\d{2}\\D{1}\\d{2}\\D{1}\\d{4}\""
   ]
  },
  {
   "cell_type": "code",
   "execution_count": null,
   "metadata": {},
   "outputs": [],
   "source": [
    "\"\"\"4) Matching Whitespace & Non-Whitespace Character\n",
    "https://www.hackerrank.com/challenges/matching-whitespace-non-whitespace-character/problem \"\"\"\n",
    "\n",
    "Regex_Pattern = r\"\\S{2}\\s{1}\\S{2}\\s{1}\\S{2}\""
   ]
  },
  {
   "cell_type": "code",
   "execution_count": null,
   "metadata": {},
   "outputs": [],
   "source": [
    "\"\"\"5) Matching Word & Non-Word Character\n",
    "https://www.hackerrank.com/challenges/matching-word-non-word/problem \"\"\"\n",
    "\n",
    "Regex_Pattern = r\"\\w{3}\\W{1}\\w{10}\\W{1}\\w{3}\""
   ]
  },
  {
   "cell_type": "code",
   "execution_count": null,
   "metadata": {},
   "outputs": [],
   "source": [
    "\"\"\"6) Matching Start & End\n",
    "https://www.hackerrank.com/challenges/matching-start-end/problem \"\"\"\n",
    "\n",
    "Regex_Pattern = r\"^(\\d)\\w{4}.$\""
   ]
  },
  {
   "cell_type": "code",
   "execution_count": null,
   "metadata": {},
   "outputs": [],
   "source": [
    "\"\"\"7) Matching Specific Characters\n",
    "https://www.hackerrank.com/challenges/matching-specific-characters/problem \"\"\"\n",
    "\n",
    "Regex_Pattern = r'^[123][120][xs0][30aA][xsu][.,]$'"
   ]
  },
  {
   "cell_type": "code",
   "execution_count": null,
   "metadata": {},
   "outputs": [],
   "source": [
    "\"\"\"8) Excluding Specific Characters\n",
    "https://www.hackerrank.com/challenges/excluding-specific-characters/problem \"\"\"\n",
    "\n",
    "Regex_Pattern = r'^[^\\d][^aeiou][^bcDF][\\S][^AEIOU][^.,]$'"
   ]
  }
 ],
 "metadata": {
  "language_info": {
   "name": "python"
  },
  "orig_nbformat": 4
 },
 "nbformat": 4,
 "nbformat_minor": 2
}
