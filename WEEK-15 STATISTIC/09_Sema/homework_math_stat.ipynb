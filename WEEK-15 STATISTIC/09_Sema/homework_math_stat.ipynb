{
 "cells": [
  {
   "cell_type": "code",
   "execution_count": null,
   "metadata": {},
   "outputs": [],
   "source": [
    "import numpy as np\n",
    "import pandas as pd\n",
    "# 100 ürün oluşturun\n",
    "n = 100\n",
    "# Rastgele fiyatlar oluşturun\n",
    "prices = np.random.normal(50, 10, n)\n",
    "# Rastgele bir iade olasılığı oluşturun\n",
    "return_prob = np.random.uniform(0, 1, n) #100 adet 0 ila 1 arasinda rastgele oran olusturur\n",
    "# İade edilip edilmediğini belirleyin\n",
    "#NOT: Urun degerlendirme Yuzdesinde %20 altindakilerin iade edildigi seklinde bir limit belirledik, ve datamizi simule ettik.\n",
    "returns = return_prob < 0.2\n",
    "# Veri çerçevesini oluşturun\n",
    "df = pd.DataFrame({'Price': prices,'Urun_Degerlendirme_Oran':return_prob ,'Return': returns})"
   ]
  },
  {
   "cell_type": "code",
   "execution_count": null,
   "metadata": {},
   "outputs": [],
   "source": [
    "\"\"\"2. Ürün değerlendirme oranı 0.5'ten büyük olan bir ürün alındığında, fiyatının 30-50 aralığında olma olasılığı nedir?\"\"\"\n",
    "#***********************************cevap2*********************************************#\n",
    "\n",
    "df_urun=df.query(\"Urun_Degerlendirme_Oran>0.5 \")\n",
    "len(df_urun.query(\"Price_Category=='(30, 50]'\"))/len(df_urun)*100"
   ]
  },
  {
   "cell_type": "code",
   "execution_count": null,
   "metadata": {},
   "outputs": [],
   "source": [
    "\n",
    "\"\"\"3. Bir ürünün fiyatı 50-70 aralığındaysa, ürün değerlendirme oranı 0.5'ten büyük olduğunda geri dönüş olasılığı nedir?\n",
    "\n",
    "\"\"\"\n",
    "###########################################################Cevap-3######################################\n",
    "\n",
    "df_urun50_70=df.query(\"Price_Category=='(50, 70]'\")\n",
    "len(df_urun50_70.query(\"Urun_Degerlendirme_Oran>0.5 and Return==True\"))/len((df_urun50_70))*100"
   ]
  },
  {
   "cell_type": "code",
   "execution_count": null,
   "metadata": {},
   "outputs": [],
   "source": [
    "\n",
    "\n",
    "\"\"\"4. Bir ürünün fiyatı 70'den fazla olduğunda, ürün değerlendirme oranı 0.5'ten büyük olma olasılığı nedir?\n",
    "\"\"\"\n",
    "###################################Cevap-4#######################################################\n",
    "\n",
    "df_urun_70=df.query(\"Price>70\")\n",
    "len(df_urun_70.query(\"Urun_Degerlendirme_Oran>0.5\"))/len(df_urun_70)*100"
   ]
  },
  {
   "cell_type": "code",
   "execution_count": null,
   "metadata": {},
   "outputs": [],
   "source": [
    "\"\"\"**SORU :**\n",
    "\n",
    "Dört şeritli bir otoyolda arabalar ya hızlı gidiyor ya da hızlı gitmiyor. \n",
    "Daha hızlı arabalar en sol şeritte gitmelidir. Herhangi bir zamanda, arabaların %20'si \n",
    "en soldaki şerittedir. Genel olarak, otoyoldaki arabaların %40'ı hızlı gidiyor olarak sınıflandırılır. \n",
    "Tüm arabaların içinde, en soldaki şerittekilerin %90'i hızlı gidiyor.\n",
    "Bir araba hızlı gidiyorsa, En Soldaki Şeritte olma olasılığı nedir?\"\"\"\n",
    "\n",
    "#Cozum\n",
    "\"\"\"P(sol)=%20\n",
    "P(hizli)=%40\n",
    "P(hizli/sol)=%90\n",
    "P(sol/hizli)=?\n",
    "P(sol/hizli)=P(hizli/sol)*P(sol)/P(hizli)=90*20/40=45\"\"\""
   ]
  }
 ],
 "metadata": {
  "language_info": {
   "name": "python"
  },
  "orig_nbformat": 4
 },
 "nbformat": 4,
 "nbformat_minor": 2
}
